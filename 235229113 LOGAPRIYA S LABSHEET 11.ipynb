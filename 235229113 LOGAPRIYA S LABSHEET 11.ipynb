{
 "cells": [
  {
   "cell_type": "markdown",
   "metadata": {},
   "source": [
    "NAME: LOGAPRIYA S\n",
    "ROLL NUMBER: 235229113\n",
    "LAB 11:Car washing shop management using queues"
   ]
  },
  {
   "cell_type": "markdown",
   "metadata": {},
   "source": [
    "LAB 11:Car washing shop management using queues\n",
    "\n",
    "Step 1: define the queue class:create a class to represent a queue with methods like is_empty,enqueue,dequeue, and size.the queue can be implemented using a list\n",
    "Step 2: implement the car washing shop management program :\n",
    "     create an instance of the queue class to represent the car queue.\n",
    "     start an infinite lop to continously interact with the user until they choose to exit.\n",
    "     inside the loop: display the menu of options for the user to choose from: add a car to the queue,wash the next car,display the number of cars waiting,or exit.\n",
    "     \n",
    "prompt the user to enter their choice. based on the user's choice, perform the corresponding actions:\n",
    "     option 1:prompt the user to enter the car details and add the car to the queue.\n",
    "     option 2:check if the queue is empty.if not, dequeue the car form the front of the queue and display a message indicating that the car has been washed.\n",
    "     option 3:get the current size of the queue and display it.\n",
    "     option 4:display a goodbye message and break out of the loop to end the program.\n",
    "     default:display an error message for an invalid choice.\n",
    "      "
   ]
  },
  {
   "cell_type": "code",
   "execution_count": 1,
   "metadata": {},
   "outputs": [
    {
     "name": "stdout",
     "output_type": "stream",
     "text": [
      "Menu:\n",
      "1. Add a car to the queue\n",
      "2. Wash the next car\n",
      "3. Display the number of cars waiting\n",
      "4. Exit\n",
      "Enter your choice: 1\n",
      "Enter the car details: TATA\n",
      "Car added to the queue.\n",
      "Menu:\n",
      "1. Add a car to the queue\n",
      "2. Wash the next car\n",
      "3. Display the number of cars waiting\n",
      "4. Exit\n",
      "Enter your choice: 2\n",
      "Car 'TATA' has been washed.\n",
      "Menu:\n",
      "1. Add a car to the queue\n",
      "2. Wash the next car\n",
      "3. Display the number of cars waiting\n",
      "4. Exit\n",
      "Enter your choice: 3\n",
      "Number of cars waiting: 0\n",
      "Menu:\n",
      "1. Add a car to the queue\n",
      "2. Wash the next car\n",
      "3. Display the number of cars waiting\n",
      "4. Exit\n",
      "Enter your choice: 4\n",
      "Goodbye!\n"
     ]
    }
   ],
   "source": [
    "class Queue:\n",
    "    def __init__(self):\n",
    "        self.queue = []\n",
    "\n",
    "    def is_empty(self):\n",
    "        return len(self.queue) == 0\n",
    "\n",
    "    def enqueue(self, item):\n",
    "        self.queue.append(item)\n",
    "\n",
    "    def dequeue(self):\n",
    "        if not self.is_empty():\n",
    "            return self.queue.pop(0)\n",
    "        else:\n",
    "            return None\n",
    "\n",
    "    def size(self):\n",
    "        return len(self.queue)\n",
    "\n",
    "\n",
    "def car_washing_shop():\n",
    "    car_queue = Queue()\n",
    "\n",
    "    while True:\n",
    "        print(\"Menu:\")\n",
    "        print(\"1. Add a car to the queue\")\n",
    "        print(\"2. Wash the next car\")\n",
    "        print(\"3. Display the number of cars waiting\")\n",
    "        print(\"4. Exit\")\n",
    "\n",
    "        choice = input(\"Enter your choice: \")\n",
    "\n",
    "        if choice == \"1\":\n",
    "            car_details = input(\"Enter the car details: \")\n",
    "            car_queue.enqueue(car_details)\n",
    "            print(\"Car added to the queue.\")\n",
    "\n",
    "        elif choice == \"2\":\n",
    "            if not car_queue.is_empty():\n",
    "                washed_car = car_queue.dequeue()\n",
    "                print(f\"Car '{washed_car}' has been washed.\")\n",
    "            else:\n",
    "                print(\"No cars in the queue.\")\n",
    "\n",
    "        elif choice == \"3\":\n",
    "            num_cars_waiting = car_queue.size()\n",
    "            print(f\"Number of cars waiting: {num_cars_waiting}\")\n",
    "\n",
    "        elif choice == \"4\":\n",
    "            print(\"Goodbye!\")\n",
    "            break\n",
    "\n",
    "        else:\n",
    "            print(\"Invalid choice. Please try again.\")\n",
    "\n",
    "\n",
    "car_washing_shop()"
   ]
  },
  {
   "cell_type": "code",
   "execution_count": null,
   "metadata": {},
   "outputs": [],
   "source": []
  }
 ],
 "metadata": {
  "kernelspec": {
   "display_name": "Python 3",
   "language": "python",
   "name": "python3"
  },
  "language_info": {
   "codemirror_mode": {
    "name": "ipython",
    "version": 3
   },
   "file_extension": ".py",
   "mimetype": "text/x-python",
   "name": "python",
   "nbconvert_exporter": "python",
   "pygments_lexer": "ipython3",
   "version": "3.6.4"
  }
 },
 "nbformat": 4,
 "nbformat_minor": 2
}
