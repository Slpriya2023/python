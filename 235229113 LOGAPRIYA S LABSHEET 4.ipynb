{
 "cells": [
  {
   "cell_type": "markdown",
   "id": "5792d2c7",
   "metadata": {},
   "source": [
    "NAME:LOGAPRIYA S\n",
    "ROLL NUMBER:235229113\n",
    "Lab4. Python File Processing"
   ]
  },
  {
   "cell_type": "markdown",
   "id": "3902818e",
   "metadata": {},
   "source": [
    "Question1. Write a program for Password Management System\n",
    " File creation: Ask user to enter N user names and their passwords. Store usernames\n",
    "and passwords into a file named “loginfile.txt”. Store each user and password in one\n",
    "line.\n",
    " File Processing: Write a program that opens your “security.txt” file and reads\n",
    "usernames and passwords from it. Store user names in one list and passwords in\n",
    "another lists.\n",
    " Querying: ask user to enter user name and password for verification. If they match\n",
    "the values stored in the lists, print a message “Login Successful”. Otherwise print a\n",
    "message “Login Failed, try again”."
   ]
  },
  {
   "cell_type": "code",
   "execution_count": 1,
   "id": "e3ff9074",
   "metadata": {},
   "outputs": [
    {
     "name": "stdout",
     "output_type": "stream",
     "text": [
      "Enter the number of users: 3\n",
      "Enter username: logapriya\n",
      "Enter password: log2509#\n",
      "Enter username: lavanya\n",
      "Enter password: lav0206#\n",
      "Enter username: harini\n",
      "Enter password: hari1009#\n"
     ]
    }
   ],
   "source": [
    "def create_login_file():\n",
    "    n = int(input(\"Enter the number of users: \"))\n",
    "    \n",
    "    with open(\"loginfile.txt\", \"w\") as file:\n",
    "        for _ in range(n):\n",
    "            username = input(\"Enter username: \")\n",
    "            password = input(\"Enter password: \")\n",
    "            file.write(f\"{username},{password}\\n\")\n",
    "\n",
    "if __name__ == \"__main__\":\n",
    "    create_login_file()\n"
   ]
  },
  {
   "cell_type": "code",
   "execution_count": 2,
   "id": "42590a0e",
   "metadata": {},
   "outputs": [
    {
     "name": "stdout",
     "output_type": "stream",
     "text": [
      "Usernames: ['logapriya', 'lavanya', 'harini']\n",
      "Passwords: ['log2509#', 'lav0206#', 'hari1009#']\n"
     ]
    }
   ],
   "source": [
    "def read_login_file():\n",
    "    usernames = []\n",
    "    passwords = []\n",
    "\n",
    "    with open(\"loginfile.txt\", \"r\") as file:\n",
    "        for line in file:\n",
    "            username, password = line.strip().split(',')\n",
    "            usernames.append(username)\n",
    "            passwords.append(password)\n",
    "\n",
    "    return usernames, passwords\n",
    "\n",
    "if __name__ == \"__main__\":\n",
    "    usernames, passwords = read_login_file()\n",
    "    print(\"Usernames:\", usernames)\n",
    "    print(\"Passwords:\", passwords)\n"
   ]
  },
  {
   "cell_type": "code",
   "execution_count": 3,
   "id": "48c34fd2",
   "metadata": {},
   "outputs": [
    {
     "name": "stdout",
     "output_type": "stream",
     "text": [
      "Enter your username: harini\n",
      "Enter your password: hari1009#\n",
      "Login Successful\n"
     ]
    }
   ],
   "source": [
    "def verify_login(usernames, passwords):\n",
    "    input_username = input(\"Enter your username: \")\n",
    "    input_password = input(\"Enter your password: \")\n",
    "\n",
    "    if input_username in usernames and input_password == passwords[usernames.index(input_username)]:\n",
    "        print(\"Login Successful\")\n",
    "    else:\n",
    "        print(\"Login Failed, try again\")\n",
    "\n",
    "if __name__ == \"__main__\":\n",
    "    usernames, passwords = read_login_file()\n",
    "    verify_login(usernames, passwords)\n"
   ]
  },
  {
   "cell_type": "markdown",
   "id": "fd7062ce",
   "metadata": {},
   "source": [
    "Question2. Write a program for Student Performance Analysis\n",
    " Create a text file, 'marks.txt', with N marks as floating point numbers. Open the file,\n",
    "read marks from it and compute and print the highest mark.\n",
    " If the user runs the program more than once you should not overwrite the previous\n",
    "text file – simply append the marks to the end of the file.\n",
    " Modify the above program so that it also prints Top-3 highest marks (Note: you may\n",
    "need to use list concept)\n",
    " Modify the above program so that it also prints the Lowest-3 marks."
   ]
  },
  {
   "cell_type": "code",
   "execution_count": 5,
   "id": "9622d882",
   "metadata": {},
   "outputs": [
    {
     "name": "stdout",
     "output_type": "stream",
     "text": [
      "Enter the number of marks: 5\n",
      "Enter mark 1: 98\n",
      "Enter mark 2: 99\n",
      "Enter mark 3: 89\n",
      "Enter mark 4: 87\n",
      "Enter mark 5: 93\n",
      "Highest Mark: 99.0\n",
      "Top 3 Highest Marks: [99.0, 99.0, 98.0]\n",
      "Lowest 3 Marks: [85.0, 87.0, 87.0]\n"
     ]
    }
   ],
   "source": [
    "def save_marks_to_file(marks):\n",
    "    with open(\"marks.txt\", \"a\") as file:\n",
    "        for mark in marks:\n",
    "            file.write(f\"{mark}\\n\")\n",
    "\n",
    "def read_marks_from_file():\n",
    "    marks = []\n",
    "    with open(\"marks.txt\", \"r\") as file:\n",
    "        for line in file:\n",
    "            mark = float(line.strip())\n",
    "            marks.append(mark)\n",
    "    return marks\n",
    "\n",
    "def find_highest_mark(marks):\n",
    "    highest_mark = max(marks)\n",
    "    return highest_mark\n",
    "\n",
    "def find_top_3_highest_marks(marks):\n",
    "    sorted_marks = sorted(marks, reverse=True)\n",
    "    return sorted_marks[:3]\n",
    "\n",
    "def find_lowest_3_marks(marks):\n",
    "    sorted_marks = sorted(marks)\n",
    "    return sorted_marks[:3]\n",
    "\n",
    "if __name__ == \"__main__\":\n",
    "    n = int(input(\"Enter the number of marks: \"))\n",
    "    marks_list = []\n",
    "\n",
    "    for i in range(n):\n",
    "        mark = float(input(f\"Enter mark {i + 1}: \"))\n",
    "        marks_list.append(mark)\n",
    "\n",
    "    save_marks_to_file(marks_list)\n",
    "    marks = read_marks_from_file()\n",
    "\n",
    "    highest_mark = find_highest_mark(marks)\n",
    "    top_3_highest_marks = find_top_3_highest_marks(marks)\n",
    "    lowest_3_marks = find_lowest_3_marks(marks)\n",
    "\n",
    "    print(\"Highest Mark:\", highest_mark)\n",
    "    print(\"Top 3 Highest Marks:\", top_3_highest_marks)\n",
    "    print(\"Lowest 3 Marks:\", lowest_3_marks)\n"
   ]
  },
  {
   "cell_type": "markdown",
   "id": "3197b60f",
   "metadata": {},
   "source": [
    "Question3. Write a program for Stock Price Analysis\n",
    " File Creation: Continually prompt a user for stock name, followed by price values for\n",
    "5 days. Each row indicates stock name and daily prices of one stock. Store these\n",
    "values in a text file called “stock-prices.txt”. Open the file in Append Mode. Prompt\n",
    "message “Do you want to continue? “ and stop reading values accordingly. Then, you\n",
    "can close your file.\n",
    " File Processing: Now, open your file for processing. Print stock name, minimum\n",
    "price, maximum price and average price values.\n",
    " You can also print which day stock price was lowest in the week and which day stock\n",
    "price was highest. So, modify your print statement to print stock name, minimum\n",
    "price & day of minimum price, maximum price & day of maximum price and average\n",
    "price values. (Hint: Use enumerate to get index values)"
   ]
  },
  {
   "cell_type": "code",
   "execution_count": 6,
   "id": "d4466259",
   "metadata": {},
   "outputs": [
    {
     "name": "stdout",
     "output_type": "stream",
     "text": [
      "Enter stock name (or type 'exit' to stop): silver\n",
      "Enter price for Day 1: 550\n",
      "Enter price for Day 2: 600\n",
      "Enter price for Day 3: 650\n",
      "Enter price for Day 4: 700\n",
      "Enter price for Day 5: 750\n",
      "Enter stock name (or type 'exit' to stop): exit\n",
      "Stock Name: silver\n",
      "Minimum Price: 550.0 on Day 1\n",
      "Maximum Price: 750.0 on Day 5\n",
      "Average Price: 650.0\n",
      "\n"
     ]
    }
   ],
   "source": [
    "def save_stock_prices_to_file():\n",
    "    with open(\"stock-prices.txt\", \"a\") as file:\n",
    "        while True:\n",
    "            stock_name = input(\"Enter stock name (or type 'exit' to stop): \")\n",
    "            if stock_name.lower() == \"exit\":\n",
    "                break\n",
    "\n",
    "            prices = []\n",
    "            for day in range(1, 6):\n",
    "                price = float(input(f\"Enter price for Day {day}: \"))\n",
    "                prices.append(price)\n",
    "\n",
    "            file.write(f\"{stock_name},{','.join(map(str, prices))}\\n\")\n",
    "\n",
    "def process_stock_prices_file():\n",
    "    with open(\"stock-prices.txt\", \"r\") as file:\n",
    "        for line in file:\n",
    "            stock_data = line.strip().split(',')\n",
    "            stock_name = stock_data[0]\n",
    "            prices = list(map(float, stock_data[1:]))\n",
    "\n",
    "            min_price = min(prices)\n",
    "            max_price = max(prices)\n",
    "            avg_price = sum(prices) / len(prices)\n",
    "\n",
    "            min_price_day = prices.index(min_price) + 1\n",
    "            max_price_day = prices.index(max_price) + 1\n",
    "\n",
    "            print(f\"Stock Name: {stock_name}\")\n",
    "            print(f\"Minimum Price: {min_price} on Day {min_price_day}\")\n",
    "            print(f\"Maximum Price: {max_price} on Day {max_price_day}\")\n",
    "            print(f\"Average Price: {avg_price}\\n\")\n",
    "\n",
    "if __name__ == \"__main__\":\n",
    "    save_stock_prices_to_file()\n",
    "    process_stock_prices_file()\n"
   ]
  },
  {
   "cell_type": "markdown",
   "id": "73d56d22",
   "metadata": {},
   "source": [
    "Question4. Write a program for File Explorer\n",
    " Display the contents of file\n",
    " Count the number of lines in a text file. (Use splitlines())\n",
    " Count the number of unique words in a file.\n",
    " Find frequency of words in a given file. (Hint: Use Counter object)\n",
    " Show a random line in a file. (Use Random object)"
   ]
  },
  {
   "cell_type": "code",
   "execution_count": 7,
   "id": "bb57d8a8",
   "metadata": {},
   "outputs": [
    {
     "name": "stdout",
     "output_type": "stream",
     "text": [
      "Enter the name of the file: hello.txt\n",
      "my name is logapriya\n",
      "i m.sc.data science\n",
      "bishop heber college \n",
      "trichy\n",
      "Number of lines in 'hello.txt': 4\n",
      "Number of unique words in 'hello.txt': 11\n",
      "Enter a word to find its frequency: bishop\n",
      "Frequency of 'bishop' in 'hello.txt': 1\n",
      "Random line in 'hello.txt': bishop heber college\n"
     ]
    }
   ],
   "source": [
    "import random\n",
    "from collections import Counter\n",
    "\n",
    "def display_file_contents(filename):\n",
    "    try:\n",
    "        with open(filename, \"r\") as file:\n",
    "            contents = file.read()\n",
    "            print(contents)\n",
    "    except FileNotFoundError:\n",
    "        print(f\"File '{filename}' not found!\")\n",
    "\n",
    "def count_lines(filename):\n",
    "    try:\n",
    "        with open(filename, \"r\") as file:\n",
    "            lines = file.read().splitlines()\n",
    "            num_lines = len(lines)\n",
    "            print(f\"Number of lines in '{filename}': {num_lines}\")\n",
    "    except FileNotFoundError:\n",
    "        print(f\"File '{filename}' not found!\")\n",
    "\n",
    "def count_unique_words(filename):\n",
    "    try:\n",
    "        with open(filename, \"r\") as file:\n",
    "            words = file.read().split()\n",
    "            num_unique_words = len(set(words))\n",
    "            print(f\"Number of unique words in '{filename}': {num_unique_words}\")\n",
    "    except FileNotFoundError:\n",
    "        print(f\"File '{filename}' not found!\")\n",
    "\n",
    "def find_word_frequency(filename, word):\n",
    "    try:\n",
    "        with open(filename, \"r\") as file:\n",
    "            words = file.read().split()\n",
    "            word_counter = Counter(words)\n",
    "            frequency = word_counter[word]\n",
    "            print(f\"Frequency of '{word}' in '{filename}': {frequency}\")\n",
    "    except FileNotFoundError:\n",
    "        print(f\"File '{filename}' not found!\")\n",
    "\n",
    "def show_random_line(filename):\n",
    "    try:\n",
    "        with open(filename, \"r\") as file:\n",
    "            lines = file.readlines()\n",
    "            random_line = random.choice(lines).strip()\n",
    "            print(f\"Random line in '{filename}': {random_line}\")\n",
    "    except FileNotFoundError:\n",
    "        print(f\"File '{filename}' not found!\")\n",
    "\n",
    "if __name__ == \"__main__\":\n",
    "    file_name = input(\"Enter the name of the file: \")\n",
    "\n",
    "    display_file_contents(file_name)\n",
    "    count_lines(file_name)\n",
    "    count_unique_words(file_name)\n",
    "\n",
    "    word_to_find = input(\"Enter a word to find its frequency: \")\n",
    "    find_word_frequency(file_name, word_to_find)\n",
    "\n",
    "    show_random_line(file_name)\n"
   ]
  },
  {
   "cell_type": "markdown",
   "id": "0fd825a7",
   "metadata": {},
   "source": [
    "Question5. [File Searcher]. Develop an application in Python to read through the email data\n",
    "(“mbox-short.txt”) and when you find line that starts with “From”, you will split the line into\n",
    "words using the split function. We are interested in who sent the message, which is the\n",
    "second word on the From line: From stephen.marquard@uct.ac.za Sat Jan 5 09:14:16 2008.\n",
    "You will parse the From line and print out the second word for each From line, then you will\n",
    "also count the number of From (not From:) lines and print out a count at the end"
   ]
  },
  {
   "cell_type": "code",
   "execution_count": 19,
   "id": "b7008f32",
   "metadata": {},
   "outputs": [
    {
     "name": "stdout",
     "output_type": "stream",
     "text": [
      "stephen.marquard@uct.ac.za\n",
      "louis@media.berkeley.edu\n",
      "zqian@umich.edu\n",
      "rjlowe@iupui.edu\n",
      "zqian@umich.edu\n",
      "rjlowe@iupui.edu\n",
      "cwen@iupui.edu\n",
      "cwen@iupui.edu\n",
      "gsilver@umich.edu\n",
      "gsilver@umich.edu\n",
      "zqian@umich.edu\n",
      "gsilver@umich.edu\n",
      "wagnermr@iupui.edu\n",
      "zqian@umich.edu\n",
      "antranig@caret.cam.ac.uk\n",
      "gopal.ramasammycook@gmail.com\n",
      "david.horwitz@uct.ac.za\n",
      "david.horwitz@uct.ac.za\n",
      "david.horwitz@uct.ac.za\n",
      "david.horwitz@uct.ac.za\n",
      "stephen.marquard@uct.ac.za\n",
      "louis@media.berkeley.edu\n",
      "louis@media.berkeley.edu\n",
      "ray@media.berkeley.edu\n",
      "cwen@iupui.edu\n",
      "cwen@iupui.edu\n",
      "cwen@iupui.edu\n",
      "Total 'From' lines: 27\n"
     ]
    }
   ],
   "source": [
    "def file_searcher(file_path):\n",
    "    try:\n",
    "        with open(file_path, \"r\") as file:\n",
    "            count = 0\n",
    "            for line in file:\n",
    "                if line.startswith(\"From \") and not line.startswith(\"From:\"):\n",
    "                    count += 1\n",
    "                    words = line.split()\n",
    "                    sender_email = words[1]\n",
    "                    print(sender_email)\n",
    "\n",
    "            print(f\"Total 'From' lines: {count}\")\n",
    "    except FileNotFoundError:\n",
    "        print(f\"File '{file_path}' not found!\")\n",
    "\n",
    "if __name__ == \"__main__\":\n",
    "    file_name = \"mbox-short.txt\"\n",
    "    file_searcher(file_name)\n"
   ]
  },
  {
   "cell_type": "markdown",
   "id": "0f561613",
   "metadata": {},
   "source": [
    "Question6. Write a program to read and write CSV files\n",
    " File Creation: Create MS Excel file (“student_marks.csv”) with 5 rows of student\n",
    "name, mark1, mark2, mark3, mark4. Use comma to separate each value in a row.\n",
    " File Display: Now, open your CSV file and display the file contents row by row (More\n",
    "information at: https://docs.python.org/3/library/csv.html).\n",
    " File Writing: Now, open (“student_marks.csv”) for writing. Ask user to enter name\n",
    "followed by 4 marks for one new student and write them onto the file."
   ]
  },
  {
   "cell_type": "code",
   "execution_count": 14,
   "id": "0b9c62c2",
   "metadata": {},
   "outputs": [],
   "source": [
    "import csv\n",
    "\n",
    "def create_student_marks_csv():\n",
    "    header = [\"Student Name\", \"Mark1\", \"Mark2\", \"Mark3\", \"Mark4\"]\n",
    "    data = [\n",
    "        [\"loga\", 90, 85, 78, 92],\n",
    "        [\"lav\", 70, 80, 75, 68],\n",
    "        [\"abi\", 88, 78, 92, 85],\n",
    "        [\"suva\", 95, 90, 87, 89],\n",
    "        [\"suruthi\", 82, 88, 75, 80]\n",
    "    ]\n",
    "\n",
    "    with open(\"student_marks.csv\", \"w\", newline='') as file:\n",
    "        writer = csv.writer(file)\n",
    "        writer.writerow(header)\n",
    "        writer.writerows(data)\n",
    "\n",
    "if __name__ == \"__main__\":\n",
    "    create_student_marks_csv()\n"
   ]
  },
  {
   "cell_type": "code",
   "execution_count": 15,
   "id": "79d8a98b",
   "metadata": {},
   "outputs": [
    {
     "name": "stdout",
     "output_type": "stream",
     "text": [
      "Student Name, Mark1, Mark2, Mark3, Mark4\n",
      "loga, 90, 85, 78, 92\n",
      "lav, 70, 80, 75, 68\n",
      "abi, 88, 78, 92, 85\n",
      "suva, 95, 90, 87, 89\n",
      "suruthi, 82, 88, 75, 80\n"
     ]
    }
   ],
   "source": [
    "import csv\n",
    "\n",
    "def display_student_marks_csv():\n",
    "    with open(\"student_marks.csv\", \"r\", newline='') as file:\n",
    "        reader = csv.reader(file)\n",
    "        for row in reader:\n",
    "            print(', '.join(row))\n",
    "\n",
    "if __name__ == \"__main__\":\n",
    "    display_student_marks_csv()\n"
   ]
  },
  {
   "cell_type": "code",
   "execution_count": 17,
   "id": "065a27bf",
   "metadata": {},
   "outputs": [
    {
     "name": "stdout",
     "output_type": "stream",
     "text": [
      "Enter student name: sanju\n",
      "Enter mark 1: 92\n",
      "Enter mark 2: 93\n",
      "Enter mark 3: 89\n",
      "Enter mark 4: 85\n"
     ]
    }
   ],
   "source": [
    "import csv\n",
    "\n",
    "def write_student_marks_csv():\n",
    "    student_data = []\n",
    "    student_name = input(\"Enter student name: \")\n",
    "    for i in range(4):\n",
    "        mark = int(input(f\"Enter mark {i+1}: \"))\n",
    "        student_data.append(mark)\n",
    "\n",
    "    with open(\"student_marks.csv\", \"a\", newline='') as file:\n",
    "        writer = csv.writer(file)\n",
    "        writer.writerow([student_name] + student_data)\n",
    "\n",
    "if __name__ == \"__main__\":\n",
    "    write_student_marks_csv()\n"
   ]
  },
  {
   "cell_type": "code",
   "execution_count": null,
   "id": "615edc9d",
   "metadata": {},
   "outputs": [],
   "source": []
  }
 ],
 "metadata": {
  "kernelspec": {
   "display_name": "Python 3 (ipykernel)",
   "language": "python",
   "name": "python3"
  },
  "language_info": {
   "codemirror_mode": {
    "name": "ipython",
    "version": 3
   },
   "file_extension": ".py",
   "mimetype": "text/x-python",
   "name": "python",
   "nbconvert_exporter": "python",
   "pygments_lexer": "ipython3",
   "version": "3.11.3"
  }
 },
 "nbformat": 4,
 "nbformat_minor": 5
}
