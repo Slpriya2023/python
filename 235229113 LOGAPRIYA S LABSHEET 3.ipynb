{
 "cells": [
  {
   "cell_type": "markdown",
   "id": "c9b4f0a1",
   "metadata": {},
   "source": [
    "NAME:LOGAPRIYA S\n",
    "ROLL NUMBER:235229113\n",
    "Lab3. List Processing in Python\n"
   ]
  },
  {
   "cell_type": "markdown",
   "id": "e4f3b9d9",
   "metadata": {},
   "source": [
    "Question1. Write a function find_average(student) that takes student tuple as input and\n",
    "print student rollno, name, marks and average marks as output.\n",
    "Test Cases:\n",
    "1. stud1 = (1, “rex”, 60, 85, 70)\n",
    "find_average(stud1)\n",
    "Modify the above function find_average(student) so that it processes a tuple of tuples.\n",
    "2. stud2 = (2, “rex”, (80, 75, 90))\n",
    "find_average(stud2)"
   ]
  },
  {
   "cell_type": "code",
   "execution_count": 1,
   "id": "6df89265",
   "metadata": {},
   "outputs": [
    {
     "name": "stdout",
     "output_type": "stream",
     "text": [
      "Roll No: 1\n",
      "Name: rex\n",
      "Marks: [60, 85, 70]\n",
      "Average Marks: 71.67\n",
      "Roll No: 2\n",
      "Name: rex\n",
      "Marks: (80, 75, 90)\n",
      "Average Marks: 81.67\n"
     ]
    }
   ],
   "source": [
    "def find_average(student):\n",
    "    rollno, name , *marks=student\n",
    "    \n",
    "    if len(marks)==1 and isinstance(marks[0],tuple):\n",
    "        marks=marks[0]\n",
    "        \n",
    "    total=sum(marks)\n",
    "    average_marks=total/len(marks)\n",
    "    \n",
    "    print(f\"Roll No: {rollno}\")\n",
    "    print(f\"Name: {name}\")\n",
    "    print(f\"Marks: {marks}\")\n",
    "    print(f\"Average Marks: {average_marks:.2f}\")\n",
    "    \n",
    "stud1 = (1, \"rex\", 60, 85, 70)\n",
    "find_average(stud1)\n",
    "\n",
    "\n",
    "stud2 = (2, \"rex\", (80, 75, 90))\n",
    "find_average(stud2)\n"
   ]
  },
  {
   "cell_type": "markdown",
   "id": "60da2b47",
   "metadata": {},
   "source": [
    "Question2. Write a weight management program that prompts the user to enter in 7 days\n",
    "of their body weight values as float numbers. Store them in list.\n",
    "Then print first day weight, last day weight, 4th day weight, highest weight, lowest weight\n",
    "and average weight.\n",
    "Finally, print if average weight < lowest weight, then print “Your weight management is\n",
    "excellent”. Otherwise print “Your weight management is not good. Please take care of your\n",
    "diet”."
   ]
  },
  {
   "cell_type": "code",
   "execution_count": 2,
   "id": "46924017",
   "metadata": {},
   "outputs": [
    {
     "name": "stdout",
     "output_type": "stream",
     "text": [
      "Enter weight for Day 1: 44\n",
      "Enter weight for Day 2: 45\n",
      "Enter weight for Day 3: 46\n",
      "Enter weight for Day 4: 47\n",
      "Enter weight for Day 5: 48\n",
      "Enter weight for Day 6: 49\n",
      "Enter weight for Day 7: 50\n",
      "First day weight: 44.0\n",
      "Last day weight: 50.0\n",
      "4th day weight: 47.0\n",
      "Highest weight: 50.0\n",
      "Lowest weight: 44.0\n",
      "Average weight: 47.00\n",
      "Your weight management is not good. Please take care of your diet.\n"
     ]
    }
   ],
   "source": [
    "def weight_management():\n",
    "    weight_values = []\n",
    "    for day in range(1,8):\n",
    "        weight = float(input(f\"Enter weight for Day {day}: \"))\n",
    "        weight_values.append(weight)\n",
    "    print(f\"First day weight: {weight_values[0]}\")\n",
    "    print(f\"Last day weight: {weight_values[-1]}\")\n",
    "    print(f\"4th day weight: {weight_values[3]}\")\n",
    "    highest_weight = max(weight_values)\n",
    "    print(f\"Highest weight: {highest_weight}\")\n",
    "    lowest_weight = min(weight_values)\n",
    "    print(f\"Lowest weight: {lowest_weight}\")\n",
    "    average_weight = sum(weight_values) / len(weight_values)\n",
    "    print(f\"Average weight: {average_weight:.2f}\")\n",
    "    if average_weight < lowest_weight:\n",
    "        print(\"Your weight management is excellent.\")\n",
    "    else:\n",
    "        print(\"Your weight management is not good. Please take care of your diet.\")\n",
    "weight_management()\n"
   ]
  },
  {
   "cell_type": "markdown",
   "id": "14e1a09a",
   "metadata": {},
   "source": [
    "Question3. Write a function lastN(lst, n) that takes a list of integers and n and returns n\n",
    "largest numbers.\n",
    "How many numbers you want to enter?: 6\n",
    "Enter a number: 12\n",
    "Enter a number: 32\n",
    "Enter a number: 10\n",
    "Enter a number: 9\n",
    "Enter a number: 52\n",
    "Enter a number: 45\n",
    "How many largest numbers you want to find?: 3\n",
    "Largest numbers are: 52, 45, 32"
   ]
  },
  {
   "cell_type": "code",
   "execution_count": 3,
   "id": "c201a0ed",
   "metadata": {},
   "outputs": [
    {
     "name": "stdout",
     "output_type": "stream",
     "text": [
      "How many numbers you want to enter?: 4\n",
      "Enter a number: 56\n",
      "Enter a number: 67\n",
      "Enter a number: 78\n",
      "Enter a number: 89\n",
      "How many largest numbers you want to find?: 2\n",
      "Largest numbers are: 89, 78\n"
     ]
    }
   ],
   "source": [
    "def lastN(lst, n):\n",
    "    sorted_list = sorted(lst, reverse=True)\n",
    "    return sorted_list[:n]\n",
    "num_entries = int(input(\"How many numbers you want to enter?: \"))\n",
    "numbers = []\n",
    "for i in range(num_entries):\n",
    "    num = int(input(\"Enter a number: \"))\n",
    "    numbers.append(num)\n",
    "num_largest = int(input(\"How many largest numbers you want to find?: \"))\n",
    "largest_numbers = lastN(numbers, num_largest)\n",
    "print(\"Largest numbers are:\", \", \".join(str(num) for num in largest_numbers))\n"
   ]
  },
  {
   "cell_type": "markdown",
   "id": "588b614d",
   "metadata": {},
   "source": [
    "Question4. Given a list of strings, return a list with the strings in sorted order, except group\n",
    "all the strings that begin with 'x' first. Hint: this can be done by making 2 lists and sorting\n",
    "each of them before combining them.\n",
    "Test Cases:\n",
    "1. Input: ['mix', 'xyz', 'apple', 'xanadu', 'aardvark']\n",
    "Output: ['xanadu', 'xyz', 'aardvark', 'apple', 'mix']\n",
    "2. Input: *‘ccc’,’bbb’,’aaa’,’xcc’,’xaa’+\n",
    "Output: *‘xaa’,’xcc’,’aaa’,’bbb’,’ccc’+\n",
    "3. Input: *‘bbb’,’ccc’,’axx’,’xzz’,’xaa’+\n",
    "Output: *‘xaa’,’xzz’,’axx’,’bbb’,’ccc’+"
   ]
  },
  {
   "cell_type": "code",
   "execution_count": 4,
   "id": "bee07e8f",
   "metadata": {},
   "outputs": [
    {
     "name": "stdout",
     "output_type": "stream",
     "text": [
      "['xanadu', 'xyz', 'aardvark', 'apple', 'mix']\n",
      "['xaa', 'xcc', 'aaa', 'bbb', 'ccc']\n",
      "['xaa', 'xzz', 'axx', 'bbb', 'ccc']\n"
     ]
    }
   ],
   "source": [
    "def sorted_with_x_first(strings_list):\n",
    "    x_strings = sorted([s for s in strings_list if s.startswith('x')])\n",
    "    other_strings = sorted([s for s in strings_list if not s.startswith('x')])\n",
    "    return x_strings + other_strings\n",
    "\n",
    "input1 = ['mix', 'xyz', 'apple', 'xanadu', 'aardvark']\n",
    "output1 = sorted_with_x_first(input1)\n",
    "print(output1)\n",
    "\n",
    "input2 = ['ccc', 'bbb', 'aaa', 'xcc', 'xaa']\n",
    "output2 = sorted_with_x_first(input2)\n",
    "print(output2)\n",
    "\n",
    "input3 = ['bbb', 'ccc', 'axx', 'xzz', 'xaa']\n",
    "output3 = sorted_with_x_first(input3)\n",
    "print(output3)\n"
   ]
  },
  {
   "cell_type": "markdown",
   "id": "90c369a4",
   "metadata": {},
   "source": [
    "Question5. Develop a function sort_last(). Given a list of non-empty tuples, return a list\n",
    "sorted in increasing order by the last element in each tuple. Hint: use a custom key=\n",
    "function to extract the last element form each tuple.\n",
    "Test Cases:\n",
    "1. Input: [(1, 7), (1, 3), (3, 4, 5), (2, 2)]\n",
    "Output: [(2, 2), (1, 3), (3, 4, 5), (1, 7)]\n",
    "2. Input: [(1,3),(3,2),(2,1)]\n",
    "Output: [(2,1),(3,2),(1,3)]\n",
    "3. Input: [(2,3),(1,2),(3,1)]\n",
    "Output: [(3,1),(1,2),(2,3)]"
   ]
  },
  {
   "cell_type": "code",
   "execution_count": 5,
   "id": "f9e126e5",
   "metadata": {},
   "outputs": [
    {
     "name": "stdout",
     "output_type": "stream",
     "text": [
      "[(2, 2), (1, 3), (3, 4, 5), (1, 7)]\n",
      "[(2, 1), (3, 2), (1, 3)]\n",
      "[(3, 1), (1, 2), (2, 3)]\n"
     ]
    }
   ],
   "source": [
    "def sort_last(tuples_list):\n",
    "    def get_last_element(t):\n",
    "        return t[-1]\n",
    "    sorted_list = sorted(tuples_list, key=get_last_element)\n",
    "    return sorted_list\n",
    "\n",
    "input1 = [(1, 7), (1, 3), (3, 4, 5), (2, 2)]\n",
    "output1 = sort_last(input1)\n",
    "print(output1)\n",
    "\n",
    "input2 = [(1, 3), (3, 2), (2, 1)]\n",
    "output2 = sort_last(input2)\n",
    "print(output2)\n",
    "\n",
    "input3 = [(2, 3), (1, 2), (3, 1)]\n",
    "output3 = sort_last(input3)\n",
    "print(output3)\n"
   ]
  },
  {
   "cell_type": "markdown",
   "id": "b2b1a3f2",
   "metadata": {},
   "source": [
    "Question6. Other String Functions\n",
    "a) Define a function first() that receives a tuple and returns its first element\n",
    "b) Define a function sort_first() that receives a list of tuples and returns the sorted\n",
    "c) Print lists in sorted order\n",
    "d) Define a function middle() that receives a a tuple and returns its middle element\n",
    "e) Define a functino sort_middle() that receives a list of tuples and returns it sorted\n",
    "using the key middle\n",
    "f) Print the list [(1,2,3), (2,1,4), (10,7,15), (20,4,50), (30, 6, 40)] in sorted order. Output\n",
    "should be: [(2, 1, 4), (1, 2, 3), (20, 4, 50), (30, 6, 40), (10, 7, 15)]"
   ]
  },
  {
   "cell_type": "code",
   "execution_count": 6,
   "id": "6822fae8",
   "metadata": {},
   "outputs": [
    {
     "name": "stdout",
     "output_type": "stream",
     "text": [
      "10\n",
      "[(1, 5), (2, 7), (3, 9)]\n",
      "[[3, 1, 2], [6, 4, 5], [9, 7, 8]]\n",
      "30\n",
      "[(3, 1, 5), (4, 2, 6), (1, 7, 9)]\n"
     ]
    }
   ],
   "source": [
    "def first(t):\n",
    "    return t[0]\n",
    "tup = (10, 20, 30)\n",
    "result = first(tup)\n",
    "print(result)  \n",
    "def sort_first(tuples_list):\n",
    "    return sorted(tuples_list, key=first)\n",
    "\n",
    "tuples_list = [(3, 9), (1, 5), (2, 7)]\n",
    "result = sort_first(tuples_list)\n",
    "print(result) \n",
    "lists = [[3, 1, 2], [6, 4, 5], [9, 7, 8]]\n",
    "sorted_lists = sorted(lists)\n",
    "print(sorted_lists)  \n",
    "def middle(t):\n",
    "    return t[len(t) // 2]\n",
    "\n",
    "tup = (10, 20, 30, 40)\n",
    "result = middle(tup)\n",
    "print(result)  \n",
    "def sort_middle(tuples_list):\n",
    "    return sorted(tuples_list, key=middle)\n",
    "tuples_list = [(3, 1, 5), (1, 7, 9), (4, 2, 6)]\n",
    "result = sort_middle(tuples_list)\n",
    "print(result)\n"
   ]
  },
  {
   "cell_type": "markdown",
   "id": "9092bd48",
   "metadata": {},
   "source": [
    "Question7. Develop a function remove_adjacent(). Given a list of numbers, return a list\n",
    "where all adjacent same elements have been reduced to a single element. You may create a\n",
    "new list or modify the passed in list.\n",
    "Test Cases:\n",
    "1. Input: [1, 2, 2, 3] and output: [1, 2, 3]\n",
    "2. Input: [2, 2, 3, 3, 3] and output: [2, 3]\n",
    "3. Input: [ ]. Output: [ ].\n",
    "4. Input: [2,5,5,6,6,7]\n",
    "Output: [2,5,6,7]\n",
    "5. Input: [6,7,7,8,9,9]\n",
    "Output: [6,7,8,9]"
   ]
  },
  {
   "cell_type": "code",
   "execution_count": 7,
   "id": "00358965",
   "metadata": {},
   "outputs": [
    {
     "name": "stdout",
     "output_type": "stream",
     "text": [
      "[1, 2, 3]\n",
      "[2, 3]\n",
      "[]\n",
      "[2, 5, 6, 7]\n",
      "[6, 7, 8, 9]\n"
     ]
    }
   ],
   "source": [
    "def remove_adjacent(nums):\n",
    "    if not nums:\n",
    "        return []\n",
    "    result = [nums[0]]\n",
    "\n",
    "    for i in range(1, len(nums)):\n",
    "        if nums[i] != nums[i - 1]:\n",
    "            result.append(nums[i])\n",
    "\n",
    "    return result\n",
    "\n",
    "\n",
    "print(remove_adjacent([1, 2, 2, 3])) \n",
    "print(remove_adjacent([2, 2, 3, 3, 3])) \n",
    "print(remove_adjacent([]))  \n",
    "print(remove_adjacent([2, 5, 5, 6, 6, 7]))  \n",
    "print(remove_adjacent([6, 7, 7, 8, 9, 9]))\n"
   ]
  },
  {
   "cell_type": "markdown",
   "id": "3184d815",
   "metadata": {},
   "source": [
    "Question8. Write a function verbing(). Given a string, if its length is at least 3, add 'ing' to its\n",
    "end. Unless it already ends in 'ing', in which case add 'ly' instead. If the string length is less\n",
    "than 3, leave it unchanged. Return the resulting string. So ‘hail’ yields: hailing; ‘swimming’\n",
    "yields: swimmingly; ‘do’ yields: do."
   ]
  },
  {
   "cell_type": "code",
   "execution_count": 8,
   "id": "33bdd478",
   "metadata": {},
   "outputs": [
    {
     "name": "stdout",
     "output_type": "stream",
     "text": [
      "hailing\n",
      "swimmingly\n",
      "do\n",
      "go\n",
      "skying\n",
      "jumpingly\n"
     ]
    }
   ],
   "source": [
    "def verbing(s):\n",
    "    if len(s) < 3:\n",
    "        return s\n",
    "\n",
    "    if s.endswith('ing'):\n",
    "        return s + 'ly'\n",
    "    else:\n",
    "        return s + 'ing'\n",
    "\n",
    "print(verbing('hail'))     \n",
    "print(verbing('swimming'))  \n",
    "print(verbing('do'))        \n",
    "print(verbing('go'))        \n",
    "print(verbing('sky'))       \n",
    "print(verbing('jumping'))   \n"
   ]
  },
  {
   "cell_type": "markdown",
   "id": "c386273d",
   "metadata": {},
   "source": [
    "Question9. Develop a function not_bad(). Given a string, find the first appearance of the\n",
    "substring 'not' and 'bad'. If the 'bad' follows the 'not', replace the whole 'not'...'bad'\n",
    "substring with 'good'.\n",
    "Return the resulting string. So 'This dinner is not that bad!' yields: This dinner is good!"
   ]
  },
  {
   "cell_type": "code",
   "execution_count": 9,
   "id": "a8af7e86",
   "metadata": {},
   "outputs": [
    {
     "name": "stdout",
     "output_type": "stream",
     "text": [
      "This dinner is good!\n"
     ]
    }
   ],
   "source": [
    "def not_bad(s):\n",
    "    not_index = s.find('not')\n",
    "    bad_index = s.find('bad')\n",
    "    if not_index != -1 and bad_index != -1 and bad_index > not_index:\n",
    "        return s[:not_index] + 'good' + s[bad_index + 3:]\n",
    "    else:\n",
    "        return s\n",
    "\n",
    "print(not_bad('This dinner is not that bad!')) \n"
   ]
  }
 ],
 "metadata": {
  "kernelspec": {
   "display_name": "Python 3 (ipykernel)",
   "language": "python",
   "name": "python3"
  },
  "language_info": {
   "codemirror_mode": {
    "name": "ipython",
    "version": 3
   },
   "file_extension": ".py",
   "mimetype": "text/x-python",
   "name": "python",
   "nbconvert_exporter": "python",
   "pygments_lexer": "ipython3",
   "version": "3.11.3"
  }
 },
 "nbformat": 4,
 "nbformat_minor": 5
}
