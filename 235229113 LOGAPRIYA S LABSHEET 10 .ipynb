{
 "cells": [
  {
   "cell_type": "markdown",
   "metadata": {},
   "source": [
    "NAME: LOGAPRIYA S\n",
    "ROLL NUMBER:235229113\n",
    "LAB 10:CHECKING PARENTHESIS IN EXPRESSION USING STACK"
   ]
  },
  {
   "cell_type": "code",
   "execution_count": 2,
   "metadata": {},
   "outputs": [
    {
     "name": "stdout",
     "output_type": "stream",
     "text": [
      "Enter an expression: ('LOGAPRIYA,[LAVANYA]{}\n",
      "The parentheses are not balanced.\n"
     ]
    }
   ],
   "source": [
    "class BracketChecker:\n",
    "    def __init__(self, expression):\n",
    "        self.expression = expression\n",
    "\n",
    "    def is_balanced(self):\n",
    "        stack = []\n",
    "        opening_brackets = ['(', '[', '{']\n",
    "        closing_brackets = [')', ']', '}']\n",
    "\n",
    "        for char in self.expression:\n",
    "            if char in opening_brackets:\n",
    "                stack.append(char)\n",
    "            elif char in closing_brackets:\n",
    "                if len(stack) == 0:\n",
    "                    return False\n",
    "                top = stack.pop()\n",
    "                if opening_brackets.index(top) != closing_brackets.index(char):\n",
    "                    return False\n",
    "\n",
    "        return len(stack) == 0\n",
    "\n",
    "\n",
    "# Example usage\n",
    "expression = input(\"Enter an expression: \")\n",
    "checker = BracketChecker(expression)\n",
    "if checker.is_balanced():\n",
    "    print(\"The parentheses are balanced.\")\n",
    "else:\n",
    "    print(\"The parentheses are not balanced.\")\n"
   ]
  },
  {
   "cell_type": "code",
   "execution_count": null,
   "metadata": {},
   "outputs": [],
   "source": []
  }
 ],
 "metadata": {
  "kernelspec": {
   "display_name": "Python 3 (ipykernel)",
   "language": "python",
   "name": "python3"
  },
  "language_info": {
   "codemirror_mode": {
    "name": "ipython",
    "version": 3
   },
   "file_extension": ".py",
   "mimetype": "text/x-python",
   "name": "python",
   "nbconvert_exporter": "python",
   "pygments_lexer": "ipython3",
   "version": "3.11.3"
  }
 },
 "nbformat": 4,
 "nbformat_minor": 2
}
