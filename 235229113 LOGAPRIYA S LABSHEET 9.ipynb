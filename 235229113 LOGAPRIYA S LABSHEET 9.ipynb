{
 "cells": [
  {
   "cell_type": "markdown",
   "id": "5c29e930",
   "metadata": {},
   "source": [
    "NAME: LOGAPRIYA S"
   ]
  },
  {
   "cell_type": "markdown",
   "id": "9fb076b8",
   "metadata": {},
   "source": [
    "ROLL NUMBER: 235229113"
   ]
  },
  {
   "cell_type": "markdown",
   "id": "815daccf",
   "metadata": {},
   "source": [
    "Labsheet 9:Implementing music play list with files and linked list"
   ]
  },
  {
   "cell_type": "code",
   "execution_count": 3,
   "id": "b9a586b3",
   "metadata": {},
   "outputs": [
    {
     "name": "stdout",
     "output_type": "stream",
     "text": [
      "Current Playlist:\n",
      "Title: GET OUT MY HEAD, Artist: SHANE CODD\n",
      "Title: SWEET MELODY, Artist: LITTLE MIX\n",
      "Title: ANYONE, Artist: JUSTINE BIEBER\n",
      "Playlist saved.\n",
      "Loaded Playlist:\n",
      "Title: GET OUT MY HEAD, Artist: SHANE CODD\n",
      "Title: SWEET MELODY, Artist: LITTLE MIX\n",
      "Title: ANYONE, Artist: JUSTINE BIEBER\n"
     ]
    }
   ],
   "source": [
    "class Song:\n",
    "    def __init__(self, title, artist):\n",
    "        self.title = title\n",
    "        self.artist = artist\n",
    "        self.next_song = None\n",
    "\n",
    "    def __str__(self):\n",
    "        return f\"Title: {self.title}, Artist: {self.artist}\"\n",
    "\n",
    "\n",
    "class Playlist:\n",
    "    def __init__(self):\n",
    "        self.head = None\n",
    "\n",
    "    def add_song(self, title, artist):\n",
    "        new_song = Song(title, artist)\n",
    "        if self.head is None:\n",
    "            self.head = new_song\n",
    "        else:\n",
    "            current_song = self.head\n",
    "            while current_song.next_song:\n",
    "                current_song = current_song.next_song\n",
    "            current_song.next_song = new_song\n",
    "\n",
    "    def display_playlist(self):\n",
    "        if self.head is None:\n",
    "            print(\"Playlist is empty.\")\n",
    "        else:\n",
    "            current_song = self.head\n",
    "            while current_song:\n",
    "                print(current_song)\n",
    "                current_song = current_song.next_song\n",
    "\n",
    "    def save_playlist(self, file_name):\n",
    "        if self.head is None:\n",
    "            print(\"Playlist is empty. Nothing to save.\")\n",
    "        else:\n",
    "            with open(file_name, \"w\") as f:\n",
    "                current_song = self.head\n",
    "                while current_song:\n",
    "                    f.write(f\"{current_song.title},{current_song.artist}\\n\")\n",
    "                    current_song = current_song.next_song\n",
    "\n",
    "    @classmethod\n",
    "    def load_playlist(cls, file_name):\n",
    "        new_playlist = cls()\n",
    "        with open(file_name, \"r\") as f:\n",
    "            for line in f:\n",
    "                title, artist = line.strip().split(',')\n",
    "                new_playlist.add_song(title, artist)\n",
    "        return new_playlist\n",
    "\n",
    "\n",
    "# Step 7: Create a new instance of the playlist class named \"playlist\".\n",
    "playlist = Playlist()\n",
    "\n",
    "# Step 8: Add Songs to the playlist using the add_song method.\n",
    "playlist.add_song(\"GET OUT MY HEAD\",\"SHANE CODD\")\n",
    "playlist.add_song(\"SWEET MELODY\",\"LITTLE MIX\")\n",
    "playlist.add_song(\"ANYONE\",\"JUSTINE BIEBER\")\n",
    "\n",
    "# Step 9: Display the playlist using the display_playlist method.\n",
    "print(\"Current Playlist:\")\n",
    "playlist.display_playlist()\n",
    "\n",
    "# Step 10: Save the playlist to a file using the save_playlist method.\n",
    "playlist.save_playlist(\"my_playlist.txt\")\n",
    "print(\"Playlist saved.\")\n",
    "\n",
    "# Step 11: Create a new instance of the playlist class named \"new_playlist\" by loading from a file.\n",
    "new_playlist = Playlist.load_playlist(\"my_playlist.txt\")\n",
    "\n",
    "# Step 12: Display the New playlist using the display_playlist method.\n",
    "print(\"Loaded Playlist:\")\n",
    "new_playlist.display_playlist()\n"
   ]
  },
  {
   "cell_type": "code",
   "execution_count": null,
   "id": "bc90410d",
   "metadata": {},
   "outputs": [],
   "source": []
  }
 ],
 "metadata": {
  "kernelspec": {
   "display_name": "Python 3 (ipykernel)",
   "language": "python",
   "name": "python3"
  },
  "language_info": {
   "codemirror_mode": {
    "name": "ipython",
    "version": 3
   },
   "file_extension": ".py",
   "mimetype": "text/x-python",
   "name": "python",
   "nbconvert_exporter": "python",
   "pygments_lexer": "ipython3",
   "version": "3.11.3"
  }
 },
 "nbformat": 4,
 "nbformat_minor": 5
}
