{
 "cells": [
  {
   "cell_type": "markdown",
   "id": "8226df1e",
   "metadata": {},
   "source": [
    "NAME:LOGAPRIYA S\n",
    "ROLL NUMBER:235229113\n",
    "PYTHON BASICS,CONDITIONS AND LOOPS"
   ]
  },
  {
   "cell_type": "markdown",
   "id": "518e7396",
   "metadata": {},
   "source": [
    "1. Write a program in Python to input length and breadth of a rectangle and print the\n",
    "area and perimeter of it.\n",
    " Test you code with atleast 2 test cases"
   ]
  },
  {
   "cell_type": "code",
   "execution_count": 1,
   "id": "043539f6",
   "metadata": {},
   "outputs": [
    {
     "name": "stdout",
     "output_type": "stream",
     "text": [
      "Enter the length value:45\n",
      "Enter the breadth value:67\n",
      "Area of rectangle is 3015.0\n",
      "perimeter o rectangle is 224.0\n"
     ]
    }
   ],
   "source": [
    "length=float(input(\"Enter the length value:\"))\n",
    "breadth=float(input(\"Enter the breadth value:\"))\n",
    "area=length*breadth\n",
    "perimeter=2*(length+breadth)\n",
    "print(\"Area of rectangle is\",area)\n",
    "print(\"perimeter o rectangle is\",perimeter)"
   ]
  },
  {
   "cell_type": "markdown",
   "id": "063d3803",
   "metadata": {},
   "source": [
    "2.Write a program, which accepts annual basic salary of an employee and calculates\n",
    "and displays the Income tax as per the following rules.\n",
    " If Basic is less than Rs. 1,50,000/-, then Tax = 0.\n",
    " If Basic is from Rs.1,50,000/- to Rs. 3,00,000/-, then tax is 20%.\n",
    " If Basic is greater than Rs.3,00,000/-, then tax is 30%.\n",
    " Print name, annual income and tax.\n",
    " Write test cases to validate all conditions"
   ]
  },
  {
   "cell_type": "code",
   "execution_count": 2,
   "id": "9bc5fe1a",
   "metadata": {},
   "outputs": [
    {
     "name": "stdout",
     "output_type": "stream",
     "text": [
      "Enter the amount of income:400000\n",
      "your tax is 120000.0\n"
     ]
    }
   ],
   "source": [
    "amount=int(input(\"Enter the amount of income:\"))\n",
    "if(amount<150000):\n",
    "    print(\"your tax is 0\")\n",
    "elif(150000<amount<300000):\n",
    "    tax=amount*20/100\n",
    "    print(\"your tax is\",tax)\n",
    "elif(amount>300000):\n",
    "    tax1=amount*30/100\n",
    "    print(\"your tax is\",tax1)\n",
    "else:\n",
    "    print(\"enter the correct amount\")\n"
   ]
  },
  {
   "cell_type": "markdown",
   "id": "750b3b7f",
   "metadata": {},
   "source": [
    "3. Write a program to accept quantity and rate for three (3) items. Compute the total\n",
    "sales amount. Also compute and print the discount as follows:\n",
    " Amount > Rs. 2000/- : 20% discount\n",
    " Amount between Rs. 1500/- to Rs.1999/- :15% discount\n",
    " Amount between Rs. 1000/- to Rs.1499/- 8 % discount\n",
    " Compute final amount to be paid.\n",
    " Print name, rate and quantity of 3 items. Then print total sales amount, total discount\n",
    "and final amount to be paid to shop.\n",
    " Write 3 test cases to validate all conditions"
   ]
  },
  {
   "cell_type": "code",
   "execution_count": 5,
   "id": "414a6507",
   "metadata": {},
   "outputs": [
    {
     "name": "stdout",
     "output_type": "stream",
     "text": [
      "enter the first item name:pencil\n",
      "enter the frst item rate:300\n",
      "enter the first item quantity:30\n",
      "enter the second item name:bag\n",
      "enter the second item rate:4000\n",
      "enter the second item quantity:4\n",
      "enter the third item name:shoe\n",
      "enter the third item rate:2000\n",
      "enter the third item quantity:2\n",
      "the total rate is 6300\n",
      "your discount is 0.2\n"
     ]
    }
   ],
   "source": [
    "name1=input(\"enter the first item name:\")\n",
    "rate1=int(input(\"enter the frst item rate:\"))\n",
    "quantity1=input(\"enter the first item quantity:\")\n",
    "name2=input(\"enter the second item name:\")\n",
    "rate2=int(input(\"enter the second item rate:\"))\n",
    "quantity2=input(\"enter the second item quantity:\")\n",
    "name3=input(\"enter the third item name:\")\n",
    "rate3=int(input(\"enter the third item rate:\"))\n",
    "quantity3=input(\"enter the third item quantity:\")\n",
    "total_rate=int(rate1+rate2+rate3)\n",
    "print(\"the total rate is\",total_rate)\n",
    "if(total_rate>2000):\n",
    "    discount1=20/100\n",
    "    print(\"your discount is\",discount1)\n",
    "elif(1500<total_rate<1999):\n",
    "    discount2=15/100\n",
    "    print(\"your discount is\",discount2)\n",
    "elif(1000<total_rate<1499):\n",
    "    discount3=8/100\n",
    "    print(\"your discount is\",discount3)\n",
    "else:\n",
    "    print(\"you have no discount\")\n"
   ]
  },
  {
   "cell_type": "markdown",
   "id": "933c3210",
   "metadata": {},
   "source": [
    "4. Evaluate the expressions using Pen and Paper first and then print the value.\n",
    " X1=(11+31+23+8+7+5)/((1-(1/2)-(1/20)))\n",
    " X2=(((10*8)+8-((7//5)%(5**4)))&3)|(2<<1)"
   ]
  },
  {
   "cell_type": "code",
   "execution_count": 6,
   "id": "2ba3e95c",
   "metadata": {},
   "outputs": [
    {
     "name": "stdout",
     "output_type": "stream",
     "text": [
      "188.88888888888889\n",
      "7\n"
     ]
    }
   ],
   "source": [
    "X1=(11+31+23+8+7+5)/((1-(1/2)-(1/20)))\n",
    "print(X1)\n",
    "X2=(((10*8)+8-((7//5)%(5**4)))&3)|(2<<1)\n",
    "print(X2)"
   ]
  },
  {
   "cell_type": "markdown",
   "id": "f7d7e302",
   "metadata": {},
   "source": [
    "5. Write a program to accept name, marks for three subjects and find the total marks\n",
    "secured, average and also display the class obtained.\n",
    " Class I – above 80%\n",
    " Class II – 60% to 80%\n",
    " Pass class – 40% to 59% and\n",
    " Fail otherwise\n",
    "Print a message as “Congratulations << your name>>, you secured a total of <<total marks>>,\n",
    "and Your class is <<class>>”\n",
    "Test you code with atleast 2 test cases"
   ]
  },
  {
   "cell_type": "code",
   "execution_count": 9,
   "id": "102af20b",
   "metadata": {},
   "outputs": [
    {
     "name": "stdout",
     "output_type": "stream",
     "text": [
      "enter your name:lavanya\n",
      "enter the first subject mark:99\n",
      "enter the second subject mark:98\n",
      "enter the third subject mark:95\n",
      "the total mark is 292\n",
      "you are class 1\n"
     ]
    }
   ],
   "source": [
    "name=input(\"enter your name:\")\n",
    "mark1=int(input(\"enter the first subject mark:\"))\n",
    "mark2=int(input(\"enter the second subject mark:\"))\n",
    "mark3=int(input(\"enter the third subject mark:\"))\n",
    "total_mark=int(mark1+mark2+mark3)\n",
    "print(\"the total mark is\",total_mark)\n",
    "average=total_mark/3\n",
    "if(average>80):\n",
    "    print(\"you are class 1\")\n",
    "elif(60<average<80):\n",
    "    print(\"you are class 2\")\n",
    "elif(40<average<59):\n",
    "    print(\"you are the pass class\")\n",
    "else:\n",
    "    print(\"you are fail\")"
   ]
  },
  {
   "cell_type": "markdown",
   "id": "0bbdef18",
   "metadata": {},
   "source": [
    "Read a number from keyboard. Print whether it is odd number, even number,\n",
    "positive number, negative number or zero. Also, print if its ASCII value represents a lower case\n",
    "or upper case letter or digit.\n",
    "Write 8 test cases to validate odd, even, positive, negative, zero, lower case, upper case and\n",
    "digit input types"
   ]
  },
  {
   "cell_type": "code",
   "execution_count": 10,
   "id": "37b0d1b7",
   "metadata": {},
   "outputs": [
    {
     "name": "stdout",
     "output_type": "stream",
     "text": [
      "enter any number:67\n",
      "the number is positive\n",
      "the number is odd\n"
     ]
    }
   ],
   "source": [
    "number=int(input(\"enter any number:\"))\n",
    "if(number>0):\n",
    "    print(\"the number is positive\")\n",
    "    if(number%2==0):\n",
    "        print(\"the number is even\")\n",
    "    else:\n",
    "        print(\"the number is odd\")\n",
    "elif(number<0):\n",
    "    print(\"the number is negative\")\n",
    "    if(number%2==0):\n",
    "        print(\"the number is even\")\n",
    "    else:\n",
    "        print(\"the number is odd\")\n",
    "else:\n",
    "    print(\"enter the integer\")"
   ]
  },
  {
   "cell_type": "markdown",
   "id": "ca441984",
   "metadata": {},
   "source": [
    "8. Write a program that accepts numbers continuously as long as the number is\n",
    "positive and prints the sum of the numbers read (Use while loop). A sample user interaction\n",
    "will be:\n",
    "\n",
    "Enter a number: 2\n",
    "Enter a number: 1\n",
    "Enter a number: 4\n",
    "Enter a number: 6\n",
    "Enter a number: -10\n",
    "sum=13"
   ]
  },
  {
   "cell_type": "code",
   "execution_count": 12,
   "id": "5294f81f",
   "metadata": {},
   "outputs": [
    {
     "name": "stdout",
     "output_type": "stream",
     "text": [
      "enter the number:2\n",
      "enter the number:1\n",
      "enter the number:4\n",
      "enter the number:6\n",
      "enter the number:10\n",
      "enter the number:-6\n",
      "sum= 23\n"
     ]
    }
   ],
   "source": [
    "sum_num=0\n",
    "while True:\n",
    "    number=int(input(\"enter the number:\"))\n",
    "    if(number<0):\n",
    "        break\n",
    "    sum_num+=number\n",
    "print(\"sum=\",sum_num)"
   ]
  },
  {
   "cell_type": "markdown",
   "id": "1c7d7536",
   "metadata": {},
   "source": [
    "Write a program to take the values of two integers m and n from the user.\n",
    "Calculate the sum of even number between m and n (including both m and n).\n",
    "Please note that value of m must be less than value of n. If m > n. then you must print a\n",
    "message “Value of m should be less than n” and ask for next input values.\n",
    "Print the values of m, n and sum. (Use while loop).\n",
    "The program should continue until user types ‘q’ to quit the program."
   ]
  },
  {
   "cell_type": "code",
   "execution_count": 13,
   "id": "6233429c",
   "metadata": {},
   "outputs": [
    {
     "name": "stdout",
     "output_type": "stream",
     "text": [
      "enter the value of m:1\n",
      "enter the value of n:30\n",
      "sum of even number: 210\n",
      "do you want to quit(type q)?:\n",
      "q\n"
     ]
    }
   ],
   "source": [
    "while True:\n",
    "    m=input(\"enter the value of m:\")\n",
    "    n=input(\"enter the value of n:\")\n",
    "    if m=='q' or n=='q':\n",
    "        break\n",
    "    m=int(m)\n",
    "    n=int(n)\n",
    "    if m>=n:\n",
    "        print(\"value of m should be less than n\")\n",
    "        continue\n",
    "    sum_even=0\n",
    "    current_num=m\n",
    "    while current_num<n:\n",
    "        if current_num%2==0:\n",
    "            sum_even+=current_num\n",
    "        current_num+=1\n",
    "    print(\"sum of even number:\",sum_even)\n",
    "    print(\"do you want to quit(type q)?:\")\n",
    "    quit_program=input()\n",
    "    if quit_program.lower()=='q':\n",
    "        break\n",
    "        "
   ]
  },
  {
   "cell_type": "markdown",
   "id": "fe79c651",
   "metadata": {},
   "source": [
    "10. Write a program to accept n and display its multiplication table. Value of n must\n",
    "be provided by the user. (Example: n * 1, n * 2,....,n*10) (Use for loop)"
   ]
  },
  {
   "cell_type": "code",
   "execution_count": 18,
   "id": "963e2879",
   "metadata": {},
   "outputs": [
    {
     "name": "stdout",
     "output_type": "stream",
     "text": [
      "enter a number:4\n",
      "multiplication table of 4:\n",
      "4*1=4\n",
      "4*2=8\n",
      "4*3=12\n",
      "4*4=16\n",
      "4*5=20\n",
      "4*6=24\n",
      "4*7=28\n",
      "4*8=32\n",
      "4*9=36\n",
      "4*10=40\n"
     ]
    }
   ],
   "source": [
    "n=int(input(\"enter a number:\"))\n",
    "print(f\"multiplication table of {n}:\")\n",
    "for i in range(1,11):\n",
    "    result=n * i\n",
    "    print(f\"{n}*{i}={result}\")"
   ]
  },
  {
   "cell_type": "markdown",
   "id": "052e5b08",
   "metadata": {},
   "source": [
    "Write a program that receives an integer and prints the sum of its digits. For\n",
    "example, an input 125 will print output 1+2+5=8.\n",
    " Try out with the following test cases\n",
    " 125\n",
    " 12\n",
    " 2\n",
    " -15"
   ]
  },
  {
   "cell_type": "code",
   "execution_count": 21,
   "id": "179b4298",
   "metadata": {},
   "outputs": [
    {
     "name": "stdout",
     "output_type": "stream",
     "text": [
      "enter a number:56\n",
      "sum of digits: 11\n"
     ]
    }
   ],
   "source": [
    "number=input(\"enter a number:\")\n",
    "digits_sum=0\n",
    "for digit in number:\n",
    "    digits_sum+=int(digit)\n",
    "print(\"sum of digits:\",digits_sum)"
   ]
  },
  {
   "cell_type": "markdown",
   "id": "fd91b967",
   "metadata": {},
   "source": [
    "Develop an application in Python that repeatedly reads numbers until the user\n",
    "enters done. Once done is entered, print out the total, count, and average of the numbers. If\n",
    "the user enters anything other than a number, detect their mistake using try and except and\n",
    "print an error message and skip to the next number."
   ]
  },
  {
   "cell_type": "code",
   "execution_count": 22,
   "id": "79374930",
   "metadata": {},
   "outputs": [
    {
     "name": "stdout",
     "output_type": "stream",
     "text": [
      "Enter a number (or 'done' to finish): 3\n",
      "Enter a number (or 'done' to finish): 6\n",
      "Enter a number (or 'done' to finish): done\n",
      "Total: 9.0\n",
      "Count: 2\n",
      "Average: 4.5\n"
     ]
    }
   ],
   "source": [
    "numbers = []\n",
    "count = 0\n",
    "total = 0\n",
    "\n",
    "while True:\n",
    "    user_input = input(\"Enter a number (or 'done' to finish): \")\n",
    "\n",
    "    if user_input.lower() == \"done\":\n",
    "        break\n",
    "\n",
    "    try:\n",
    "        number = float(user_input)\n",
    "        numbers.append(number)\n",
    "        count += 1\n",
    "        total += number\n",
    "    except ValueError:\n",
    "        print(\"Invalid input. Please enter a valid number or 'done'.\")\n",
    "\n",
    "if count > 0:\n",
    "    average = total / count\n",
    "    print(\"Total:\", total)\n",
    "    print(\"Count:\", count)\n",
    "    print(\"Average:\", average)\n",
    "else:\n",
    "    print(\"No numbers were entered.\")"
   ]
  },
  {
   "cell_type": "code",
   "execution_count": null,
   "id": "4ed5456f",
   "metadata": {},
   "outputs": [],
   "source": []
  }
 ],
 "metadata": {
  "kernelspec": {
   "display_name": "Python 3 (ipykernel)",
   "language": "python",
   "name": "python3"
  },
  "language_info": {
   "codemirror_mode": {
    "name": "ipython",
    "version": 3
   },
   "file_extension": ".py",
   "mimetype": "text/x-python",
   "name": "python",
   "nbconvert_exporter": "python",
   "pygments_lexer": "ipython3",
   "version": "3.11.3"
  }
 },
 "nbformat": 4,
 "nbformat_minor": 5
}
