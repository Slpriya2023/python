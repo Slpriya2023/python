{
 "cells": [
  {
   "cell_type": "markdown",
   "id": "a2eb0402",
   "metadata": {},
   "source": [
    "NAME:LOGAPRIYA S\n",
    "ROLL NUMBER:235229113\n",
    "Lab2. Python Functions, Modules and String Processing"
   ]
  },
  {
   "cell_type": "markdown",
   "id": "8821d46d",
   "metadata": {},
   "source": [
    "Question 1. Create a function prime() that receives an integer and returns whether n is\n",
    "prime or not. Print all prime numbers from 1 to 100 by calling prime() function. For\n",
    "example,\n",
    "prime(1)\n",
    "prime(2)\n",
    ".......\n",
    "prime(100)"
   ]
  },
  {
   "cell_type": "code",
   "execution_count": 1,
   "id": "07264971",
   "metadata": {},
   "outputs": [
    {
     "name": "stdout",
     "output_type": "stream",
     "text": [
      "2\n",
      "3\n",
      "5\n",
      "7\n",
      "11\n",
      "13\n",
      "17\n",
      "19\n",
      "23\n",
      "29\n",
      "31\n",
      "37\n",
      "41\n",
      "43\n",
      "47\n",
      "53\n",
      "59\n",
      "61\n",
      "67\n",
      "71\n",
      "73\n",
      "79\n",
      "83\n",
      "89\n",
      "97\n"
     ]
    }
   ],
   "source": [
    "def prime(n):\n",
    "    if n < 2:\n",
    "        return False\n",
    "    for i in range(2, int(n**0.5) + 1):\n",
    "        if n % i == 0:\n",
    "            return False\n",
    "    return True\n",
    "\n",
    "for num in range(1, 101):\n",
    "    if prime(num):\n",
    "        print(num)"
   ]
  },
  {
   "cell_type": "markdown",
   "id": "82dc5145",
   "metadata": {},
   "source": [
    "Question 2. Develop a simple arithmetic calculator for 4 operations. The program should\n",
    "continue calculation until user types ‘q’ to quit. A sample user interaction can be:\n",
    " Enter operator (q to quit): +\n",
    " Enter value 1: 10\n",
    " Enter value 2: 20\n",
    " Result = 30\n",
    "Create 4 functions add(), subtract(), multiply() and divide() that receives two values and\n",
    "returns the result of the operation.\n",
    "Now, perform the following operations by calling the corresponding functions. Validate your\n",
    "outputs.\n",
    "1. 10+20\n",
    "2. 20-5\n",
    "3. 8*5\n",
    "4. 50/3"
   ]
  },
  {
   "cell_type": "code",
   "execution_count": 2,
   "id": "f12c176e",
   "metadata": {},
   "outputs": [
    {
     "name": "stdout",
     "output_type": "stream",
     "text": [
      "Enter operator (q to quit): 3\n",
      "Enter value 1: 5\n",
      "Enter value 2: 7\n",
      "Invalid operator. Please try again.\n",
      "Enter operator (q to quit): *\n",
      "Enter value 1: 7\n",
      "Enter value 2: 9\n",
      "Result = 63\n",
      "\n",
      "Enter operator (q to quit): /\n",
      "Enter value 1: 78\n",
      "Enter value 2: 90\n",
      "Result = 0.8666666666666667\n",
      "\n",
      "Enter operator (q to quit): q\n",
      "Calculator program has ended.\n"
     ]
    }
   ],
   "source": [
    "def add(a, b):\n",
    "    return a + b\n",
    "\n",
    "def subtract(a, b):\n",
    "    return a - b\n",
    "\n",
    "def multiply(a, b):\n",
    "    return a * b\n",
    "\n",
    "def divide(a, b):\n",
    "    return a / b\n",
    "\n",
    "def calculator():\n",
    "    while True:\n",
    "        operator = input(\"Enter operator (q to quit): \")\n",
    "\n",
    "        if operator == 'q':\n",
    "            print(\"Calculator program has ended.\")\n",
    "            break\n",
    "\n",
    "        value1 = int(input(\"Enter value 1: \"))\n",
    "        value2 = int(input(\"Enter value 2: \"))\n",
    "\n",
    "        if operator == '+':\n",
    "            result = add(value1, value2)\n",
    "        elif operator == '-':\n",
    "            result = subtract(value1, value2)\n",
    "        elif operator == '*':\n",
    "            result = multiply(value1, value2)\n",
    "        elif operator == '/':\n",
    "            result = divide(value1, value2)\n",
    "        else:\n",
    "            print(\"Invalid operator. Please try again.\")\n",
    "            continue\n",
    "\n",
    "        print(\"Result =\", result)\n",
    "        print()\n",
    "calculator()\n",
    "\n"
   ]
  },
  {
   "cell_type": "markdown",
   "id": "a2b41442",
   "metadata": {},
   "source": [
    "Question3. Create a function factorial() that takes an integer and returns its factorial value.\n",
    " You can create as a non-recursive version of factorial.\n",
    " Also, check factorial of negative number does not exist.\n",
    " Factorial of 0 is 1.\n",
    " Save this Python file as factorial_definition.py.\n",
    "Now, open another file and you can import factorial_definition.py as follows:\n",
    " import factorial_definition\n",
    " You can call factorial function as factorial_definition.factorial()."
   ]
  },
  {
   "cell_type": "code",
   "execution_count": 3,
   "id": "df810e9e",
   "metadata": {},
   "outputs": [
    {
     "name": "stdout",
     "output_type": "stream",
     "text": [
      "720\n",
      "362880\n",
      "265252859812191058636308480000000\n"
     ]
    }
   ],
   "source": [
    "def factorial(n):\n",
    "    if n < 0:\n",
    "        return None\n",
    "    elif n == 0:\n",
    "        return 1\n",
    "    else:\n",
    "        fact = 1\n",
    "        for i in range(1, n + 1):\n",
    "            fact = fact * i\n",
    "        return fact\n",
    "print(factorial(6))\n",
    "print(factorial(9))\n",
    "print(factorial(30))"
   ]
  },
  {
   "cell_type": "markdown",
   "id": "347559f0",
   "metadata": {},
   "source": [
    "Question4. Develop a function count_letter(string, search) that returns the number of\n",
    "times search character appears in a string.\n",
    "Test cases:\n",
    "1. Str = “hello world”. Search = ‘o’. Calling count_letter(str, search) should return output 2\n",
    "2. Str = “HeLlo wOrld”. Search = ‘o’. Then, calling count_letter(str, search) will return output\n",
    "1\n",
    "Modify count_letter() so that it ignores case sensitivity, so that o and O are same.\n",
    "3. Str = “HeLlo wOrld”. Search = ‘o’. Calling count_letter(str, search) will return output 2"
   ]
  },
  {
   "cell_type": "code",
   "execution_count": 4,
   "id": "4b528ff3",
   "metadata": {},
   "outputs": [
    {
     "name": "stdout",
     "output_type": "stream",
     "text": [
      "Test case 1: 2\n",
      "Test case 2: 1\n",
      "Test case 3: 2\n"
     ]
    }
   ],
   "source": [
    "def count_letter(string, search):\n",
    "    count = 0\n",
    "    for char in string:\n",
    "        if char.lower() == search.lower():\n",
    "            count += 1\n",
    "    return count\n",
    "\n",
    "str1 = \"hello world\"\n",
    "search1 = 'o'\n",
    "print(\"Test case 1:\", count_letter(str1, search1))  \n",
    "\n",
    "str2 = \"HeLlo world\"\n",
    "search2 = 'w'\n",
    "print(\"Test case 2:\", count_letter(str2, search2))  \n",
    "\n",
    "str3 = \"HeLlo wOrld\"\n",
    "search3 = 'o'\n",
    "print(\"Test case 3:\", count_letter(str3, search3))  "
   ]
  },
  {
   "cell_type": "markdown",
   "id": "357f7c36",
   "metadata": {},
   "source": [
    "Question5. Write a program that counts the number of spaces, digits, vowels and\n",
    "consonants in a string that the user inputs. Print the string, no of spaces, no of digits, no of\n",
    "vowels and no of consonants.\n",
    "Test case: Enter a string: Bishop Heber College 17. Then output should be:\n",
    "Given string: Bishop Heber College 17\n",
    "No. of spaces: 3\n",
    "No. of digits: 2\n",
    "No. of vowels: 7\n",
    "No. of consonants: 12"
   ]
  },
  {
   "cell_type": "code",
   "execution_count": 5,
   "id": "765b3e48",
   "metadata": {},
   "outputs": [
    {
     "name": "stdout",
     "output_type": "stream",
     "text": [
      "Enter a string: bishop heber college trichy\n",
      "Given string: bishop heber college trichy\n",
      "No. of spaces: 3\n",
      "No. of digits: 0\n",
      "No. of vowels: 8\n",
      "No. of consonants: 16\n"
     ]
    }
   ],
   "source": [
    "def count_characters(string):\n",
    "    \n",
    "    num_spaces = 0\n",
    "    num_digits = 0\n",
    "    num_vowels = 0\n",
    "    num_consonants = 0\n",
    "\n",
    "    \n",
    "    vowels = set('AEIOUaeiou')\n",
    "\n",
    "    for char in string:\n",
    "        if char.isspace():\n",
    "            num_spaces += 1\n",
    "        elif char.isdigit():\n",
    "            num_digits += 1\n",
    "        elif char.isalpha():\n",
    "            if char in vowels:\n",
    "                num_vowels += 1\n",
    "            else:\n",
    "                num_consonants += 1\n",
    "\n",
    "    return num_spaces, num_digits, num_vowels, num_consonants\n",
    "\n",
    "\n",
    "user_input = input(\"Enter a string: \")\n",
    "\n",
    "spaces, digits, vowels, consonants = count_characters(user_input)\n",
    "print(\"Given string:\", user_input)\n",
    "print(\"No. of spaces:\", spaces)\n",
    "print(\"No. of digits:\", digits)\n",
    "print(\"No. of vowels:\", vowels)\n",
    "print(\"No. of consonants:\", consonants)\n",
    "\n"
   ]
  },
  {
   "cell_type": "markdown",
   "id": "3670c447",
   "metadata": {},
   "source": [
    "Question6. Develop a function remove_punctuation(str) that returns the string after\n",
    "removing the following punctuations.\n",
    "Punctuation List = \"!\\\"#$%&'()*+,-./:;<=>?@[\\]^`{|}~\"\n",
    "Test cases:\n",
    "1. Str = “Bishop’s College !.....”. Calling remove_punctuation(str) should return output as\n",
    "“Bishops College”\n",
    "2. Str = “#bhc trending @cs $placements::>.” Calling remove_punctuation(str) should\n",
    "return output as “bhc trending cs placements”"
   ]
  },
  {
   "cell_type": "code",
   "execution_count": 6,
   "id": "c0ab7528",
   "metadata": {},
   "outputs": [
    {
     "name": "stdout",
     "output_type": "stream",
     "text": [
      "Test case 1: Bishopâs College \n",
      "Test case 2: bhc trending cs placements\n"
     ]
    }
   ],
   "source": [
    "def remove_punctuation(input_string):\n",
    "    punctuations = '''!\"#$%&'()*+,-./:;<=>?@[\\]^`{|}~'''\n",
    "    cleaned_string = \"\"\n",
    "    for char in input_string:\n",
    "        if char not in punctuations:\n",
    "            cleaned_string += char\n",
    "    return cleaned_string\n",
    "\n",
    "str1 = \"Bishopâs College !.....\"\n",
    "print(\"Test case 1:\", remove_punctuation(str1))  \n",
    "\n",
    "str2 = \"#bhc trending @cs $placements::>.\"\n",
    "print(\"Test case 2:\", remove_punctuation(str2))  \n"
   ]
  },
  {
   "cell_type": "markdown",
   "id": "ab87af7a",
   "metadata": {},
   "source": [
    "Write a program that asks the user for a word. Translate their word into Pig Latin. Pig Latin game takes the first consonant (or set of first consonants) of an English word, moves it to the end of the word and suffixes an ay. If the first letter is a vowel, do not move that vowel, but instead add âwayâ at the end of the word. Test Cases:\n",
    "\n",
    "Enter a word: pig Output: ig-pay\n",
    "Enter a word: banana Output: anana-bay\n",
    "Enter a word: trash Output: ash-tray\n",
    "Enter a word: apple Output: apple-way\n",
    "Enter a word: orange Output: orange-way\n",
    "Modify your program so that it becomes a function piglatin(word) and returns translated word as output. Call this function 3 times with the same inputs and validate the outputs"
   ]
  },
  {
   "cell_type": "code",
   "execution_count": 7,
   "id": "ca789759",
   "metadata": {},
   "outputs": [
    {
     "name": "stdout",
     "output_type": "stream",
     "text": [
      "Enter a word: pig\n",
      "Output: ig-pay\n",
      "Enter a word: banana\n",
      "Output: anana-bay\n",
      "Enter a word: trash\n",
      "Output: ash-tray\n",
      "Enter a word: apple\n",
      "Output: apple-way\n",
      "Enter a word: orange\n",
      "Output: orange-way\n"
     ]
    }
   ],
   "source": [
    "def piglatin(word):\n",
    "    vowels = set('AEIOUaeiou')\n",
    "    if word[0] in vowels:\n",
    "        return word + \"-way\"\n",
    "    else:\n",
    "        for i in range(len(word)):\n",
    "            if word[i] in vowels:\n",
    "                return word[i:] + \"-\" + word[:i] + \"ay\"\n",
    "    return word + \"-ay\" \n",
    "words = [\"pig\", \"banana\", \"trash\", \"apple\", \"orange\"]\n",
    "\n",
    "for word in words:\n",
    "    print(\"Enter a word:\", word)\n",
    "    print(\"Output:\", piglatin(word))\n",
    "\n"
   ]
  },
  {
   "cell_type": "code",
   "execution_count": null,
   "id": "760a95fd",
   "metadata": {},
   "outputs": [],
   "source": []
  }
 ],
 "metadata": {
  "kernelspec": {
   "display_name": "Python 3 (ipykernel)",
   "language": "python",
   "name": "python3"
  },
  "language_info": {
   "codemirror_mode": {
    "name": "ipython",
    "version": 3
   },
   "file_extension": ".py",
   "mimetype": "text/x-python",
   "name": "python",
   "nbconvert_exporter": "python",
   "pygments_lexer": "ipython3",
   "version": "3.11.5"
  }
 },
 "nbformat": 4,
 "nbformat_minor": 5
}
